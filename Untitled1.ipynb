{
 "cells": [
  {
   "cell_type": "code",
   "execution_count": 1,
   "id": "081dfee0",
   "metadata": {},
   "outputs": [
    {
     "ename": "SyntaxError",
     "evalue": "invalid syntax (<ipython-input-1-7b2013c6d6dd>, line 10)",
     "output_type": "error",
     "traceback": [
      "\u001b[1;36m  File \u001b[1;32m\"<ipython-input-1-7b2013c6d6dd>\"\u001b[1;36m, line \u001b[1;32m10\u001b[0m\n\u001b[1;33m    plt.rcParams[' image. interpolation \"] = 'nearest '\u001b[0m\n\u001b[1;37m                                              ^\u001b[0m\n\u001b[1;31mSyntaxError\u001b[0m\u001b[1;31m:\u001b[0m invalid syntax\n"
     ]
    }
   ],
   "source": [
    "import matplotlib.pyplot as plt\n",
    "import numpy as np\n",
    "import keras\n",
    "from keras.models import Sequential\n",
    "from keras. layers import Dense, Activation\n",
    "from data_utils import *\n",
    "\n",
    "%matolotlib inline\n",
    "plt.rcarams[' figure.figsize'] = (10.0, 8.0)\n",
    "plt.rcParams[' image. interpolation \"] = 'nearest '\n",
    "pit.rcParams[' image.cmap'] = 'gray\n",
    "\n",
    "import tensorflow as tf\n",
    "from keras import backend as k\n",
    "import os\n",
    "\n",
    "%load_ext autoreload\n",
    "\n",
    "%autoreload2"
   ]
  },
  {
   "cell_type": "code",
   "execution_count": null,
   "id": "e83d085c",
   "metadata": {},
   "outputs": [],
   "source": []
  }
 ],
 "metadata": {
  "kernelspec": {
   "display_name": "Python 3",
   "language": "python",
   "name": "python3"
  },
  "language_info": {
   "codemirror_mode": {
    "name": "ipython",
    "version": 3
   },
   "file_extension": ".py",
   "mimetype": "text/x-python",
   "name": "python",
   "nbconvert_exporter": "python",
   "pygments_lexer": "ipython3",
   "version": "3.8.8"
  }
 },
 "nbformat": 4,
 "nbformat_minor": 5
}
