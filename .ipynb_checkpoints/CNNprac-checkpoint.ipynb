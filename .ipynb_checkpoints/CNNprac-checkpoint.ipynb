{
 "cells": [
  {
   "cell_type": "code",
   "execution_count": null,
   "metadata": {
    "colab": {
     "base_uri": "https://localhost:8080/"
    },
    "id": "csq1p8Ao8OYV",
    "outputId": "3661c809-b21e-4458-c3d3-cc57f961e1fe"
   },
   "outputs": [
    {
     "name": "stdout",
     "output_type": "stream",
     "text": [
      "Warning: Your Kaggle API key is readable by other users on this system! To fix this, you can run 'chmod 600 /content/kaggle.json'\n",
      "dogs-vs-cats-redux-kernels-edition.zip: Skipping, found more recently modified local copy (use --force to force download)\n"
     ]
    }
   ],
   "source": [
    "import os\n",
    "os.environ['KAGGLE_CONFIG_DIR'] = '/content'\n",
    "!kaggle competitions download -c dogs-vs-cats-redux-kernels-edition"
   ]
  },
  {
   "cell_type": "code",
   "execution_count": null,
   "metadata": {
    "id": "YYVUkNEA98vi"
   },
   "outputs": [],
   "source": [
    "import tensorflow as tf\n",
    "import shutil\n",
    "import os\n",
    " #tf.keras.preprocessing.image_dataset_from_directory()4\n",
    "os.mkdir('/content/dataset/')\n",
    "os.mkdir('/content/dataset/cat')\n",
    "os.mkdir('/content/dataset/dog')\n",
    "for i in os.listdir('/content/train/'):\n",
    "  if 'cat' in i:\n",
    "    shutil.copyfile('/content/train/'+i, '/content/dataset/cat/' +i)\n",
    "  if 'dog' in i:\n",
    "    shutil.copyfile('/content/train/'+i, '/content/dataset/dog/' +i)\n"
   ]
  },
  {
   "cell_type": "code",
   "execution_count": null,
   "metadata": {
    "colab": {
     "base_uri": "https://localhost:8080/"
    },
    "id": "nh_5fx7FAD31",
    "outputId": "566a9415-949f-4e0b-eda3-7dcfc58dccb7"
   },
   "outputs": [
    {
     "name": "stdout",
     "output_type": "stream",
     "text": [
      "Found 25000 files belonging to 2 classes.\n",
      "Using 20000 files for training.\n",
      "Found 25000 files belonging to 2 classes.\n",
      "Using 5000 files for validation.\n"
     ]
    }
   ],
   "source": [
    "import tensorflow as tf\n",
    "train_ds = tf.keras.preprocessing.image_dataset_from_directory('/content/dataset/',\n",
    "                                                    image_size=(64,64),\n",
    "                                                    batch_size=32,\n",
    "                                                    subset = 'training',\n",
    "                                                    validation_split = 0.2,\n",
    "                                                    seed = 1234\n",
    "                                                    )\n",
    "val_ds = tf.keras.preprocessing.image_dataset_from_directory('/content/dataset/',\n",
    "                                                    image_size=(64,64),\n",
    "                                                    batch_size=32,\n",
    "                                                    subset = 'validation',\n",
    "                                                    validation_split = 0.2,\n",
    "                                                    seed = 1234\n",
    "                                                    )\n",
    "def 정규화(x,y):\n",
    "  x = tf.cast(x/255.0 , tf.float32)\n",
    "  return x,y\n",
    "\n",
    "train_ds = train_ds.map(정규화)\n",
    "val_ds = val_ds.map(정규화)"
   ]
  },
  {
   "cell_type": "code",
   "execution_count": 6,
   "metadata": {
    "colab": {
     "base_uri": "https://localhost:8080/"
    },
    "id": "JbT3qv4eCZeU",
    "outputId": "e6d73bea-a8f9-42b0-cb38-5f07331e3759"
   },
   "outputs": [
    {
     "name": "stdout",
     "output_type": "stream",
     "text": [
      "Model: \"sequential_4\"\n",
      "_________________________________________________________________\n",
      " Layer (type)                Output Shape              Param #   \n",
      "=================================================================\n",
      " conv2d_8 (Conv2D)           (None, 62, 62, 32)        896       \n",
      "                                                                 \n",
      " max_pooling2d_8 (MaxPooling  (None, 31, 31, 32)       0         \n",
      " 2D)                                                             \n",
      "                                                                 \n",
      " conv2d_9 (Conv2D)           (None, 29, 29, 64)        18496     \n",
      "                                                                 \n",
      " max_pooling2d_9 (MaxPooling  (None, 14, 14, 64)       0         \n",
      " 2D)                                                             \n",
      "                                                                 \n",
      " dropout_8 (Dropout)         (None, 14, 14, 64)        0         \n",
      "                                                                 \n",
      " flatten_4 (Flatten)         (None, 12544)             0         \n",
      "                                                                 \n",
      " dense_12 (Dense)            (None, 128)               1605760   \n",
      "                                                                 \n",
      " dense_13 (Dense)            (None, 64)                8256      \n",
      "                                                                 \n",
      " dropout_9 (Dropout)         (None, 64)                0         \n",
      "                                                                 \n",
      " dense_14 (Dense)            (None, 1)                 65        \n",
      "                                                                 \n",
      "=================================================================\n",
      "Total params: 1,633,473\n",
      "Trainable params: 1,633,473\n",
      "Non-trainable params: 0\n",
      "_________________________________________________________________\n"
     ]
    }
   ],
   "source": [
    "import tensorflow as tf\n",
    "model = tf.keras.Sequential(\n",
    "    [\n",
    "        tf.keras.layers.Conv2D(\n",
    "            32, (3, 3), padding=\"valid\", activation=\"relu\", input_shape=(64, 64, 3)\n",
    "        ), \n",
    "        tf.keras.layers.MaxPooling2D((2, 2),),  # 풀링 사이즈\n",
    "        tf.keras.layers.Conv2D(\n",
    "            64, (3, 3), padding=\"valid\", activation=\"relu\", input_shape=(64, 64, 3)\n",
    "        ),\n",
    "        tf.keras.layers.MaxPooling2D((2, 2)),  # 풀링 사이즈\n",
    "        tf.keras.layers.Dropout(0.2),\n",
    "        tf.keras.layers.Flatten(),\n",
    "        tf.keras.layers.Dense(128, activation=\"relu\"),\n",
    "        tf.keras.layers.Dense(64, activation=\"relu\"),\n",
    "        tf.keras.layers.Dropout(0.2),\n",
    "        tf.keras.layers.Dense(1, activation=\"sigmoid\"),\n",
    "    ]\n",
    ")\n",
    "\n",
    "\n",
    "model.compile(\n",
    "    loss=\"binary_crossentropy\", optimizer=\"adam\", metrics=[\"accuracy\"]\n",
    ")\n",
    "model.summary()\n",
    "#model.fit(train_ds,validation_data=val_ds,batch_size=32, epochs=5)"
   ]
  },
  {
   "cell_type": "code",
   "execution_count": 6,
   "metadata": {
    "id": "uf3p2mjBU_Bq"
   },
   "outputs": [],
   "source": []
  }
 ],
 "metadata": {
  "colab": {
   "provenance": []
  },
  "kernelspec": {
   "display_name": "Python 3",
   "language": "python",
   "name": "python3"
  },
  "language_info": {
   "codemirror_mode": {
    "name": "ipython",
    "version": 3
   },
   "file_extension": ".py",
   "mimetype": "text/x-python",
   "name": "python",
   "nbconvert_exporter": "python",
   "pygments_lexer": "ipython3",
   "version": "3.8.8"
  }
 },
 "nbformat": 4,
 "nbformat_minor": 1
}
